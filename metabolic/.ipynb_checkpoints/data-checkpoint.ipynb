{
 "cells": [
  {
   "cell_type": "code",
   "execution_count": 2,
   "id": "fdbab167-e597-46d4-ad88-f2e035e59d61",
   "metadata": {},
   "outputs": [],
   "source": [
    "import cobra\n",
    "import pandas as pd\n",
    "import cobra_fba as cfba\n",
    "\n",
    "# todo:\n",
    "# convert vivarium cfba commands to cobra"
   ]
  },
  {
   "cell_type": "code",
   "execution_count": 30,
   "id": "9a36e484-4766-42e5-9f07-72a5f8a6941f",
   "metadata": {},
   "outputs": [],
   "source": [
    "# model_path = '../models/json/iML1515.json'\n",
    "model_path = '../models/json/GM_iML1515.json'\n",
    "# model_path = ../models/json/iJO1366.json'\n",
    "\n",
    "model = cfba.FBA({'model_path': model_path})"
   ]
  },
  {
   "cell_type": "code",
   "execution_count": 31,
   "id": "3188da7c-b0e3-49f2-8092-2e6246b7f4b1",
   "metadata": {},
   "outputs": [],
   "source": [
    "df = pd.DataFrame(data = model.model.reactions, columns = ['reaction'])"
   ]
  },
  {
   "cell_type": "code",
   "execution_count": 32,
   "id": "75904776-fa14-445d-a5bf-c83d5765a297",
   "metadata": {},
   "outputs": [],
   "source": [
    "df['reaction'] = df['reaction'].astype(str)"
   ]
  },
  {
   "cell_type": "code",
   "execution_count": 33,
   "id": "b6482094-e536-4270-9f09-e4e2076b0521",
   "metadata": {},
   "outputs": [
    {
     "name": "stdout",
     "output_type": "stream",
     "text": [
      "                                               reaction\n",
      "0        CYTDK2: cytd_c + gtp_c --> cmp_c + gdp_c + h_c\n",
      "1                XPPT: prpp_c + xan_c --> ppi_c + xmp_c\n",
      "2              HXPRT: hxan_c + prpp_c --> imp_c + ppi_c\n",
      "3              NDPK5: atp_c + dgdp_c <=> adp_c + dgtp_c\n",
      "4     SHK3Dr: 3dhsk_c + h_c + nadph_c <=> nadp_c + s...\n",
      "...                                                 ...\n",
      "2716                      STYtpp: phleth_e <=> phleth_p\n",
      "2717  STYEr: atp_c + h2o_c + phleth_p <=> adp_c + h_...\n",
      "2718  STYABr: fadh2_c + o2_c + phleth_c <=> fad_c + ...\n",
      "2719                   STYCr: phloxi__s2_c <=> pacald_c\n",
      "2720                         EX_phleth_e: phleth_e <=> \n",
      "\n",
      "[2721 rows x 1 columns]\n"
     ]
    }
   ],
   "source": [
    "print(df)"
   ]
  },
  {
   "cell_type": "code",
   "execution_count": 34,
   "id": "63ee910b-537c-43dc-9f56-c39892613354",
   "metadata": {},
   "outputs": [],
   "source": [
    "reactions = df['reaction'].str.split(': ').str[0]; reactions = pd.DataFrame(reactions); reactions.columns = ['reaction']"
   ]
  },
  {
   "cell_type": "code",
   "execution_count": 35,
   "id": "1a63f912-286d-4a8d-9e75-c46a1929103b",
   "metadata": {},
   "outputs": [],
   "source": [
    "reactions['formula'] = df['reaction'].str.split(': ').str[1]"
   ]
  },
  {
   "cell_type": "code",
   "execution_count": 36,
   "id": "06e818ac-cbeb-49f6-86ca-d34835c6e480",
   "metadata": {},
   "outputs": [],
   "source": [
    "r = model.model.reactions"
   ]
  },
  {
   "cell_type": "code",
   "execution_count": 37,
   "id": "053d107f-fdc2-4687-9f0d-c82aed277bee",
   "metadata": {},
   "outputs": [],
   "source": [
    "r_names = []\n",
    "for reaction in r:\n",
    "    r_names.append(str(reaction.name))"
   ]
  },
  {
   "cell_type": "code",
   "execution_count": 38,
   "id": "eaaf89c3-7356-42e6-8226-7e044c59ba6b",
   "metadata": {},
   "outputs": [],
   "source": [
    "r_subsystems = []\n",
    "for reaction in r:\n",
    "    r_subsystems.append(str(reaction.subsystem))"
   ]
  },
  {
   "cell_type": "code",
   "execution_count": 39,
   "id": "84cce612-b638-4728-ba57-13ad80390d90",
   "metadata": {},
   "outputs": [],
   "source": [
    "reactions['name'] = r_names; reactions['subsystem'] = r_subsystems"
   ]
  },
  {
   "cell_type": "code",
   "execution_count": 40,
   "id": "7e644d1a-d375-4853-92db-ad476c0aa93e",
   "metadata": {},
   "outputs": [],
   "source": [
    "reactions = reactions[['name', 'subsystem', 'reaction', 'formula']]"
   ]
  },
  {
   "cell_type": "code",
   "execution_count": 41,
   "id": "d3b365fb-0c64-4017-9bd1-124073345dfb",
   "metadata": {},
   "outputs": [
    {
     "name": "stdout",
     "output_type": "stream",
     "text": [
      "                                                   name  \\\n",
      "0                                 Cytidine kinase (GTP)   \n",
      "1                    Xanthine phosphoribosyltransferase   \n",
      "2     Hypoxanthine phosphoribosyltransferase (Hypoxa...   \n",
      "3              Nucleoside-diphosphate kinase (ATP:dGDP)   \n",
      "4                               Shikimate dehydrogenase   \n",
      "...                                                 ...   \n",
      "2716                                              Porin   \n",
      "2717                              Styrene Pump - ATPase   \n",
      "2718                              Styrene Monooxygenase   \n",
      "2719                            Styrene Oxide Isomerase   \n",
      "2720                  Phenylethylene (styrene) exchange   \n",
      "\n",
      "                                              subsystem     reaction  \\\n",
      "0                            Nucleotide Salvage Pathway       CYTDK2   \n",
      "1                            Nucleotide Salvage Pathway         XPPT   \n",
      "2                            Nucleotide Salvage Pathway        HXPRT   \n",
      "3                            Nucleotide Salvage Pathway        NDPK5   \n",
      "4     Tyrosine, Tryptophan, and Phenylalanine Metabo...       SHK3Dr   \n",
      "...                                                 ...          ...   \n",
      "2716                                        sty Plasmid       STYtpp   \n",
      "2717                                        sty Plasmid        STYEr   \n",
      "2718                                        sty Plasmid       STYABr   \n",
      "2719                                        sty Plasmid        STYCr   \n",
      "2720                                                     EX_phleth_e   \n",
      "\n",
      "                                                formula  \n",
      "0                cytd_c + gtp_c --> cmp_c + gdp_c + h_c  \n",
      "1                      prpp_c + xan_c --> ppi_c + xmp_c  \n",
      "2                     hxan_c + prpp_c --> imp_c + ppi_c  \n",
      "3                     atp_c + dgdp_c <=> adp_c + dgtp_c  \n",
      "4            3dhsk_c + h_c + nadph_c <=> nadp_c + skm_c  \n",
      "...                                                 ...  \n",
      "2716                              phleth_e <=> phleth_p  \n",
      "2717  atp_c + h2o_c + phleth_p <=> adp_c + h_c + phl...  \n",
      "2718  fadh2_c + o2_c + phleth_c <=> fad_c + h2o_c + ...  \n",
      "2719                          phloxi__s2_c <=> pacald_c  \n",
      "2720                                      phleth_e <=>   \n",
      "\n",
      "[2721 rows x 4 columns]\n"
     ]
    }
   ],
   "source": [
    "print(reactions)"
   ]
  },
  {
   "cell_type": "code",
   "execution_count": 42,
   "id": "5cfdff80-2e8d-4fee-8a33-11a4d607ab8f",
   "metadata": {},
   "outputs": [],
   "source": [
    "reactions.to_csv('reactions.csv', index = False)"
   ]
  },
  {
   "cell_type": "code",
   "execution_count": 43,
   "id": "69af0226-513f-4db8-b43a-66e23016ef50",
   "metadata": {},
   "outputs": [],
   "source": [
    "metabolites = pd.DataFrame(data = model.model.metabolites, columns = ['metabolite'])"
   ]
  },
  {
   "cell_type": "code",
   "execution_count": 44,
   "id": "971a6276-c8e0-4fda-af4e-013803436109",
   "metadata": {},
   "outputs": [],
   "source": [
    "m = model.model.metabolites"
   ]
  },
  {
   "cell_type": "code",
   "execution_count": 45,
   "id": "a225932f-08f1-42d6-b768-88a271f61aaa",
   "metadata": {},
   "outputs": [],
   "source": [
    "m_names = []\n",
    "for metabolite in m:\n",
    "    m_names.append(str(metabolite.name))"
   ]
  },
  {
   "cell_type": "code",
   "execution_count": 46,
   "id": "d0847df3-e12f-4efc-9524-643d5afed90d",
   "metadata": {},
   "outputs": [],
   "source": [
    "metabolites['name'] = m_names"
   ]
  },
  {
   "cell_type": "code",
   "execution_count": 47,
   "id": "1edb5c7a-f902-4616-b211-782211cd8a73",
   "metadata": {},
   "outputs": [
    {
     "name": "stdout",
     "output_type": "stream",
     "text": [
      "        metabolite                        name\n",
      "0         octapb_c   Octanoate (protein bound)\n",
      "1        cysi__L_e       L Cystine C6H12N2O4S2\n",
      "2           dhap_c  Dihydroxyacetone phosphate\n",
      "3         prbatp_c    1-(5-Phosphoribosyl)-ATP\n",
      "4         10fthf_c   10-Formyltetrahydrofolate\n",
      "...            ...                         ...\n",
      "1878         phb_c       (R)-3-hydroxybutyrate\n",
      "1879      phleth_e    Phenylethylene (styrene)\n",
      "1880      phleth_p    Phenylethylene (styrene)\n",
      "1881      phleth_c    Phenylethylene (styrene)\n",
      "1882  phloxi__s2_c         (S)-2-phenyloxirane\n",
      "\n",
      "[1883 rows x 2 columns]\n"
     ]
    }
   ],
   "source": [
    "print(metabolites)"
   ]
  },
  {
   "cell_type": "code",
   "execution_count": 48,
   "id": "4642c0d2-a986-40cd-85eb-6d9e2d280efd",
   "metadata": {},
   "outputs": [],
   "source": [
    "metabolites.to_csv('metabolites.csv', index = False)"
   ]
  },
  {
   "cell_type": "code",
   "execution_count": 49,
   "id": "49cb3968-f686-4d05-9c68-1d045c977fd0",
   "metadata": {},
   "outputs": [],
   "source": [
    "genes = pd.DataFrame(data = model.model.genes, columns = ['gene'])"
   ]
  },
  {
   "cell_type": "code",
   "execution_count": 50,
   "id": "fde94526-63cd-4a5d-8aaf-f660b9fcba05",
   "metadata": {},
   "outputs": [],
   "source": [
    "g = model.model.genes"
   ]
  },
  {
   "cell_type": "code",
   "execution_count": 51,
   "id": "c973694b-ea16-4ed9-9e62-88219e045b09",
   "metadata": {},
   "outputs": [],
   "source": [
    "g_names = []\n",
    "for gene in g:\n",
    "    g_names.append(str(gene.name))"
   ]
  },
  {
   "cell_type": "code",
   "execution_count": 52,
   "id": "49b090bc-1609-4b4f-8670-1c1c71b0697f",
   "metadata": {},
   "outputs": [],
   "source": [
    "genes['name'] = g_names"
   ]
  },
  {
   "cell_type": "code",
   "execution_count": 53,
   "id": "62b845da-33ae-4f54-bee2-4265aa25d5be",
   "metadata": {},
   "outputs": [
    {
     "name": "stdout",
     "output_type": "stream",
     "text": [
      "       gene  name\n",
      "0     b2551  glyA\n",
      "1     b0870  ltaE\n",
      "2     b3368  cysG\n",
      "3     b2436  hemF\n",
      "4     b0008  talB\n",
      "...     ...   ...\n",
      "1517   phaB      \n",
      "1518   phaC      \n",
      "1519   styE      \n",
      "1520  styAB      \n",
      "1521   styC      \n",
      "\n",
      "[1522 rows x 2 columns]\n"
     ]
    }
   ],
   "source": [
    "print(genes)"
   ]
  },
  {
   "cell_type": "code",
   "execution_count": 54,
   "id": "42c259b1-b21e-4b77-b213-001849e4ac5b",
   "metadata": {},
   "outputs": [],
   "source": [
    "genes.to_csv('genes.csv', index = False)"
   ]
  },
  {
   "cell_type": "code",
   "execution_count": null,
   "id": "25c788ff-040c-4736-b23a-95366a0f1d47",
   "metadata": {},
   "outputs": [],
   "source": []
  }
 ],
 "metadata": {
  "kernelspec": {
   "display_name": "env",
   "language": "python",
   "name": "env"
  },
  "language_info": {
   "codemirror_mode": {
    "name": "ipython",
    "version": 3
   },
   "file_extension": ".py",
   "mimetype": "text/x-python",
   "name": "python",
   "nbconvert_exporter": "python",
   "pygments_lexer": "ipython3",
   "version": "3.9.7"
  }
 },
 "nbformat": 4,
 "nbformat_minor": 5
}
