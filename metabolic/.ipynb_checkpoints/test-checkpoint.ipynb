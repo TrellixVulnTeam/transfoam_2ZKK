{
 "cells": [
  {
   "cell_type": "code",
   "execution_count": 4,
   "id": "e3cda692-d611-4501-a19f-9dc6eb41cc9a",
   "metadata": {},
   "outputs": [],
   "source": [
    "import cameo"
   ]
  },
  {
   "cell_type": "code",
   "execution_count": 5,
   "id": "5a2a4026-3302-42a7-b8df-0110a23c62a3",
   "metadata": {},
   "outputs": [
    {
     "ename": "AttributeError",
     "evalue": "'Model' object has no attribute 'solve'",
     "output_type": "error",
     "traceback": [
      "\u001b[0;31m---------------------------------------------------------------------------\u001b[0m",
      "\u001b[0;31mAttributeError\u001b[0m                            Traceback (most recent call last)",
      "\u001b[0;32m/var/folders/9w/hszfvw392q983b9b3bn4zqsw0000gn/T/ipykernel_4115/3026842426.py\u001b[0m in \u001b[0;36m<module>\u001b[0;34m\u001b[0m\n\u001b[1;32m      1\u001b[0m \u001b[0;32mfrom\u001b[0m \u001b[0mcameo\u001b[0m \u001b[0;32mimport\u001b[0m \u001b[0mmodels\u001b[0m\u001b[0;34m\u001b[0m\u001b[0;34m\u001b[0m\u001b[0m\n\u001b[1;32m      2\u001b[0m \u001b[0mmodel\u001b[0m \u001b[0;34m=\u001b[0m \u001b[0mmodels\u001b[0m\u001b[0;34m.\u001b[0m\u001b[0mbigg\u001b[0m\u001b[0;34m.\u001b[0m\u001b[0miJO1366\u001b[0m\u001b[0;34m\u001b[0m\u001b[0;34m\u001b[0m\u001b[0m\n\u001b[0;32m----> 3\u001b[0;31m \u001b[0mwt_solution\u001b[0m \u001b[0;34m=\u001b[0m \u001b[0mmodel\u001b[0m\u001b[0;34m.\u001b[0m\u001b[0msolve\u001b[0m\u001b[0;34m(\u001b[0m\u001b[0;34m)\u001b[0m\u001b[0;34m\u001b[0m\u001b[0;34m\u001b[0m\u001b[0m\n\u001b[0m\u001b[1;32m      4\u001b[0m \u001b[0mgrowth\u001b[0m \u001b[0;34m=\u001b[0m \u001b[0mwt_solution\u001b[0m\u001b[0;34m.\u001b[0m\u001b[0mfluxes\u001b[0m\u001b[0;34m[\u001b[0m\u001b[0;34m\"BIOMASS_Ec_iJO1366_core_53p95M\"\u001b[0m\u001b[0;34m]\u001b[0m\u001b[0;34m\u001b[0m\u001b[0;34m\u001b[0m\u001b[0m\n\u001b[1;32m      5\u001b[0m \u001b[0macetate_production\u001b[0m \u001b[0;34m=\u001b[0m \u001b[0mwt_solution\u001b[0m\u001b[0;34m.\u001b[0m\u001b[0mfluxes\u001b[0m\u001b[0;34m[\u001b[0m\u001b[0;34m\"EX_ac_e\"\u001b[0m\u001b[0;34m]\u001b[0m\u001b[0;34m\u001b[0m\u001b[0;34m\u001b[0m\u001b[0m\n",
      "\u001b[0;31mAttributeError\u001b[0m: 'Model' object has no attribute 'solve'"
     ]
    }
   ],
   "source": [
    "from cameo import models\n",
    "model = models.bigg.iJO1366\n",
    "wt_solution = model.solve()\n",
    "growth = wt_solution.fluxes[\"BIOMASS_Ec_iJO1366_core_53p95M\"]\n",
    "acetate_production = wt_solution.fluxes[\"EX_ac_e\"]\n",
    "\n",
    "from cameo import phenotypic_phase_plane\n",
    "p = phenotypic_phase_plane(model, variables=['BIOMASS_Ec_iJO1366_core_53p95M'], objective='EX_ac_e')\n",
    "p.plot(points=[(growth, acetate_production)])"
   ]
  },
  {
   "cell_type": "code",
   "execution_count": null,
   "id": "2fd327d5-8b3a-42e3-a51d-945ed3ea63cd",
   "metadata": {},
   "outputs": [],
   "source": [
    "from cameo.strain_design.heuristic.evolutionary_based import OptGene\n",
    "optgene = OptGene(model)\n",
    "result = optgene.run(target=\"EX_ac_e\",\n",
    "                     biomass=\"BIOMASS_Ec_iJO1366_core_53p95M\",\n",
    "                     substrate=\"glc__D_e\",\n",
    "                     max_evaluations=5000,\n",
    "                     plot=False)"
   ]
  }
 ],
 "metadata": {
  "kernelspec": {
   "display_name": "env",
   "language": "python",
   "name": "env"
  },
  "language_info": {
   "codemirror_mode": {
    "name": "ipython",
    "version": 3
   },
   "file_extension": ".py",
   "mimetype": "text/x-python",
   "name": "python",
   "nbconvert_exporter": "python",
   "pygments_lexer": "ipython3",
   "version": "3.9.7"
  }
 },
 "nbformat": 4,
 "nbformat_minor": 5
}
