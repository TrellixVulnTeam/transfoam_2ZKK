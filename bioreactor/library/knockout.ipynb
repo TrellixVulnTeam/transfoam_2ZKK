{
 "cells": [
  {
   "cell_type": "code",
   "execution_count": 1,
   "id": "3f307440-6337-45db-9fa4-87c76aa43df0",
   "metadata": {},
   "outputs": [],
   "source": [
    "import cobra\n",
    "import pandas as pd\n",
    "import cobra_fba as cfba"
   ]
  },
  {
   "cell_type": "code",
   "execution_count": 20,
   "id": "d5a341a0-0540-438f-8788-d6d695f74fbd",
   "metadata": {},
   "outputs": [],
   "source": [
    "model = cfba.FBA({'model_path': '../../models/json/iML1515.json'})"
   ]
  },
  {
   "cell_type": "code",
   "execution_count": 3,
   "id": "02c603f1-90fa-43ab-a5c2-d82e3ba25994",
   "metadata": {},
   "outputs": [
    {
     "name": "stdout",
     "output_type": "stream",
     "text": [
      "                                                   name  \\\n",
      "0                                 Cytidine kinase (GTP)   \n",
      "1                    Xanthine phosphoribosyltransferase   \n",
      "2     Hypoxanthine phosphoribosyltransferase (Hypoxa...   \n",
      "3              Nucleoside-diphosphate kinase (ATP:dGDP)   \n",
      "4                               Shikimate dehydrogenase   \n",
      "...                                                 ...   \n",
      "2707                             Molybdopterin synthase   \n",
      "2708                       Molybdenum cofactor synthase   \n",
      "2709    Bis-molybdopterin guanine dinucleotide synthase   \n",
      "2710  Iron-sulfur cluster damage (nitrous oxide, spo...   \n",
      "2711         Octanoate non-lipoylated apo domain ligase   \n",
      "\n",
      "                                              subsystem reaction  \\\n",
      "0                            Nucleotide Salvage Pathway   CYTDK2   \n",
      "1                            Nucleotide Salvage Pathway     XPPT   \n",
      "2                            Nucleotide Salvage Pathway    HXPRT   \n",
      "3                            Nucleotide Salvage Pathway    NDPK5   \n",
      "4     Tyrosine, Tryptophan, and Phenylalanine Metabo...   SHK3Dr   \n",
      "...                                                 ...      ...   \n",
      "2707         Cofactor and Prosthetic Group Biosynthesis     MPTS   \n",
      "2708         Cofactor and Prosthetic Group Biosynthesis    MOCOS   \n",
      "2709         Cofactor and Prosthetic Group Biosynthesis  BMOGDS2   \n",
      "2710         Cofactor and Prosthetic Group Biosynthesis   FESD2s   \n",
      "2711         Cofactor and Prosthetic Group Biosynthesis   OCTNLL   \n",
      "\n",
      "                                                formula  \n",
      "0                cytd_c + gtp_c --> cmp_c + gdp_c + h_c  \n",
      "1                      prpp_c + xan_c --> ppi_c + xmp_c  \n",
      "2                     hxan_c + prpp_c --> imp_c + ppi_c  \n",
      "3                     atp_c + dgdp_c <=> adp_c + dgtp_c  \n",
      "4            3dhsk_c + h_c + nadph_c <=> nadp_c + skm_c  \n",
      "...                                                 ...  \n",
      "2707  cpmp_c + cu2_c + 2.0 moadcosh_c --> 5.0 h_c + ...  \n",
      "2708  2.0 h_c + mobd_c + mptamp_c --> amp_c + cu2_c ...  \n",
      "2709   bmoco1gdp_c + gtp_c + h_c --> bmocogdp_c + ppi_c  \n",
      "2710  2.0 4fe4s_c + 2.0 h_c + 2.0 no_c --> 2.0 3fe4s...  \n",
      "2711  atp_c + h_c + octa_c --> amp_c + octapb_c + ppi_c  \n",
      "\n",
      "[2712 rows x 4 columns]\n"
     ]
    }
   ],
   "source": [
    "reactions = pd.read_csv('IML/reactions.csv'); print(reactions)"
   ]
  },
  {
   "cell_type": "code",
   "execution_count": 43,
   "id": "915d44a8-8b09-4771-94e9-8c042c664ac4",
   "metadata": {},
   "outputs": [
    {
     "name": "stdout",
     "output_type": "stream",
     "text": [
      "complete model:  0.8769972144269688\n",
      "accoa_c\n",
      "=======\n",
      "Formula: C23H34N7O17P3S\n",
      "\n",
      "Producing Reactions\n",
      "-------------------\n",
      "Percent      Flux Reaction                                                         Definition\n",
      "  0.00% 0.0003929    PAI2T                              coa_c + dhptdd_c --> accoa_c + dhap_c\n",
      " 94.11%      9.69      PDH                 coa_c + nad_c + pyr_c --> accoa_c + co2_c + nadh_c\n",
      "  0.93%   0.09538     POR5 coa_c + 2.0 flxso_c + pyr_c <=> accoa_c + co2_c + 2.0 flxr_c + h_c\n",
      "  4.96%    0.5106     PTAr                                  accoa_c + pi_c <=> actp_c + coa_c\n",
      "\n",
      "Consuming Reactions\n",
      "-------------------\n",
      "Percent     Flux Reaction                                                 Definition\n",
      "  6.06%  -0.6242  ACACT1r                            2.0 accoa_c <=> aacoa_c + coa_c\n",
      "  3.03%  -0.3121  ACACT2r                     accoa_c + btcoa_c <=> 3ohcoa_c + coa_c\n",
      "  3.03%  -0.3121  ACACT3r                     accoa_c + hxcoa_c <=> 3oocoa_c + coa_c\n",
      "  3.03%  -0.3121  ACACT4r                     accoa_c + occoa_c <=> 3odcoa_c + coa_c\n",
      "  3.03%  -0.3121  ACACT5r                   accoa_c + dcacoa_c <=> 3oddcoa_c + coa_c\n",
      "  2.37%  -0.2439  ACACT6r                  accoa_c + ddcacoa_c <=> 3otdcoa_c + coa_c\n",
      "  2.37%  -0.2439  ACACT7r                    accoa_c + tdcoa_c <=> 3ohdcoa_c + coa_c\n",
      "  0.66% -0.06826   ACCOAC accoa_c + atp_c + hco3_c --> adp_c + h_c + malcoa_c + pi_c\n",
      "  2.52%  -0.2594     ACGS               accoa_c + glu__L_c --> acglu_c + coa_c + h_c\n",
      " 67.14%   -6.913       CS            accoa_c + h2o_c + oaa_c --> cit_c + coa_c + h_c\n",
      "  0.80% -0.08287   G1PACT              accoa_c + gam1p_c --> acgam1p_c + coa_c + h_c\n",
      "  3.84%  -0.3951     IPPS        3mob_c + accoa_c + h2o_c --> 3c3hmp_c + coa_c + h_c\n",
      "  2.11%   -0.217    SERAT                     accoa_c + ser__L_c <=> acser_c + coa_c\n"
     ]
    }
   ],
   "source": [
    "model = cfba.FBA({'model_path': '../../models/json/iML1515.json'})\n",
    "\n",
    "# print('complete model: ', model.model.reactions.BIOMASS_Ec_iML1515_core_75p37M.flux)\n",
    "\n",
    "solution = model.optimize()\n",
    "print('complete model: ', model.solution.objective_value)\n",
    "\n",
    "# print(model.read_internal_fluxes())\n",
    "reactions['c_flux'] = list(model.solution.fluxes)\n",
    "\n",
    "print(model.model.metabolites.accoa_c.summary())\n",
    "medium = pd.DataFrame([model.model.medium])\n",
    "# medium.to_csv('medium.csv', index = False)\n"
   ]
  },
  {
   "cell_type": "code",
   "execution_count": 47,
   "id": "fcd45774-d4b6-42d3-9390-2c1c2d776634",
   "metadata": {},
   "outputs": [
    {
     "name": "stdout",
     "output_type": "stream",
     "text": [
      "modified model:  0.42559605747734075\n",
      "accoa_c\n",
      "=======\n",
      "Formula: C23H34N7O17P3S\n",
      "\n",
      "Producing Reactions\n",
      "-------------------\n",
      "Percent      Flux Reaction                                                         Definition\n",
      "  0.00% 0.0001907    PAI2T                              coa_c + dhptdd_c --> accoa_c + dhap_c\n",
      " 94.50%     5.055      PDH                 coa_c + nad_c + pyr_c --> accoa_c + co2_c + nadh_c\n",
      "  0.87%   0.04629     POR5 coa_c + 2.0 flxso_c + pyr_c <=> accoa_c + co2_c + 2.0 flxr_c + h_c\n",
      "  4.63%    0.2478     PTAr                                  accoa_c + pi_c <=> actp_c + coa_c\n",
      "\n",
      "Consuming Reactions\n",
      "-------------------\n",
      "Percent     Flux Reaction                                                 Definition\n",
      "  5.66%  -0.3029  ACACT1r                            2.0 accoa_c <=> aacoa_c + coa_c\n",
      "  2.83%  -0.1515  ACACT2r                     accoa_c + btcoa_c <=> 3ohcoa_c + coa_c\n",
      "  2.83%  -0.1515  ACACT3r                     accoa_c + hxcoa_c <=> 3oocoa_c + coa_c\n",
      "  2.83%  -0.1515  ACACT4r                     accoa_c + occoa_c <=> 3odcoa_c + coa_c\n",
      "  2.83%  -0.1515  ACACT5r                   accoa_c + dcacoa_c <=> 3oddcoa_c + coa_c\n",
      "  2.21%  -0.1183  ACACT6r                  accoa_c + ddcacoa_c <=> 3otdcoa_c + coa_c\n",
      "  2.21%  -0.1183  ACACT7r                    accoa_c + tdcoa_c <=> 3ohdcoa_c + coa_c\n",
      "  0.62% -0.03312   ACCOAC accoa_c + atp_c + hco3_c --> adp_c + h_c + malcoa_c + pi_c\n",
      "  2.35%  -0.1259     ACGS               accoa_c + glu__L_c --> acglu_c + coa_c + h_c\n",
      " 69.31%   -3.708       CS            accoa_c + h2o_c + oaa_c --> cit_c + coa_c + h_c\n",
      "  0.75% -0.04021   G1PACT              accoa_c + gam1p_c --> acgam1p_c + coa_c + h_c\n",
      "  3.58%  -0.1917     IPPS        3mob_c + accoa_c + h2o_c --> 3c3hmp_c + coa_c + h_c\n",
      "  1.97%  -0.1053    SERAT                     accoa_c + ser__L_c <=> acser_c + coa_c\n"
     ]
    }
   ],
   "source": [
    "model = cfba.FBA({'model_path': '../../models/json/iML1515.json'})\n",
    "\n",
    "with model:\n",
    "    \n",
    "    # reaction bounds\n",
    "    flux_bounds = {\n",
    "        'EX_glc__D_e': [-5, 0], \n",
    "#         'EX_o2_e': [-11, 0],\n",
    "#         'EX_cobalt2_e': [0, 0],\n",
    "#         'EX_h_e': [0, 0],\n",
    "#         'EX_h2o_e': [0, 0],\n",
    "#         'EX_k_e': [0, 0],\n",
    "#         'EX_cu2_e': [0, 0],\n",
    "    }\n",
    "    \n",
    "    model.constrain_reaction_bounds(flux_bounds)\n",
    "    \n",
    "    solution = model.optimize()\n",
    "    \n",
    "    # gene knockouts\n",
    "#     model.model.genes.b2296.knock_out() # ackA\n",
    "\n",
    "    # reaction knockouts\n",
    "    # model.model.reactions.PTAr.knock_out() # PTAr\n",
    "    # model.model.reactions.ACKr.knock_out() # ACKr\n",
    "    # model.model.reactions.CS.knock_out() # CS\n",
    "    # model.model.reactions.FUM.knock_out() # FUM\n",
    "    # model.model.reactions.SUCOAS.knock_out() # SUC\n",
    "    \n",
    "    # print('modified model: ', model.model.reactions.BIOMASS_Ec_iML1515_core_75p37M.flux)\n",
    "    print('modified model: ', model.solution.objective_value)\n",
    "\n",
    "    reactions['k_fluxes'] = list(model.solution.fluxes)\n",
    "#     print(fluxes)\n",
    "#     reactions.to_csv('fluxes.csv', index = False)\n",
    "    \n",
    "#     print(pd.DataFrame([model.minimal_external()]))\n",
    "    print(model.model.metabolites.accoa_c.summary())\n",
    "    "
   ]
  },
  {
   "cell_type": "code",
   "execution_count": 28,
   "id": "cd92ad08-93c4-4e44-bdef-d618e9b221bd",
   "metadata": {},
   "outputs": [
    {
     "name": "stdout",
     "output_type": "stream",
     "text": [
      "EX_LalaDgluMdap_e: LalaDgluMdap_e --> \n"
     ]
    }
   ],
   "source": [
    "print(model.model.reactions[2279])"
   ]
  },
  {
   "cell_type": "code",
   "execution_count": 11,
   "id": "881761b6-11c3-4f7e-9316-8e450125c430",
   "metadata": {},
   "outputs": [
    {
     "name": "stdout",
     "output_type": "stream",
     "text": [
      "Maximize\n",
      "1.0*BIOMASS_Ec_iJO1366_core_53p95M - 1.0*BIOMASS_Ec_iJO1366_core_53p95M_reverse_5c8b1\n"
     ]
    }
   ],
   "source": [
    "print(model.model.objective)"
   ]
  },
  {
   "cell_type": "code",
   "execution_count": 7,
   "id": "e257f6e5-8b63-4e29-b8a2-27323c490719",
   "metadata": {},
   "outputs": [
    {
     "data": {
      "text/plain": [
       "['__class__',\n",
       " '__delattr__',\n",
       " '__dict__',\n",
       " '__dir__',\n",
       " '__doc__',\n",
       " '__eq__',\n",
       " '__format__',\n",
       " '__ge__',\n",
       " '__getattribute__',\n",
       " '__getstate__',\n",
       " '__gt__',\n",
       " '__hash__',\n",
       " '__init__',\n",
       " '__init_subclass__',\n",
       " '__le__',\n",
       " '__lt__',\n",
       " '__module__',\n",
       " '__ne__',\n",
       " '__new__',\n",
       " '__reduce__',\n",
       " '__reduce_ex__',\n",
       " '__repr__',\n",
       " '__setattr__',\n",
       " '__sizeof__',\n",
       " '__str__',\n",
       " '__subclasshook__',\n",
       " '__weakref__',\n",
       " '_annotation',\n",
       " '_bound',\n",
       " '_id',\n",
       " '_model',\n",
       " '_reaction',\n",
       " '_repr_html_',\n",
       " '_set_id_with_model',\n",
       " 'annotation',\n",
       " 'charge',\n",
       " 'compartment',\n",
       " 'constraint',\n",
       " 'copy',\n",
       " 'elements',\n",
       " 'formula',\n",
       " 'formula_weight',\n",
       " 'id',\n",
       " 'model',\n",
       " 'name',\n",
       " 'notes',\n",
       " 'reactions',\n",
       " 'remove_from_model',\n",
       " 'shadow_price',\n",
       " 'summary',\n",
       " 'y']"
      ]
     },
     "execution_count": 7,
     "metadata": {},
     "output_type": "execute_result"
    }
   ],
   "source": [
    "dir(model.model.metabolites.accoa_c)"
   ]
  },
  {
   "cell_type": "code",
   "execution_count": null,
   "id": "f0e8b6c2-e960-4cc0-9e55-7a82bf9ccabf",
   "metadata": {},
   "outputs": [],
   "source": []
  }
 ],
 "metadata": {
  "kernelspec": {
   "display_name": "env",
   "language": "python",
   "name": "env"
  },
  "language_info": {
   "codemirror_mode": {
    "name": "ipython",
    "version": 3
   },
   "file_extension": ".py",
   "mimetype": "text/x-python",
   "name": "python",
   "nbconvert_exporter": "python",
   "pygments_lexer": "ipython3",
   "version": "3.9.7"
  }
 },
 "nbformat": 4,
 "nbformat_minor": 5
}
