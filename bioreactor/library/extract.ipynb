{
 "cells": [
  {
   "cell_type": "code",
   "execution_count": 2,
   "id": "fdbab167-e597-46d4-ad88-f2e035e59d61",
   "metadata": {},
   "outputs": [],
   "source": [
    "import cobra\n",
    "import pandas as pd\n",
    "import cobra_fba as cfba"
   ]
  },
  {
   "cell_type": "code",
   "execution_count": 3,
   "id": "9a36e484-4766-42e5-9f07-72a5f8a6941f",
   "metadata": {},
   "outputs": [],
   "source": [
    "model = cfba.FBA({'model_path': '../../models/json/test.json'})"
   ]
  },
  {
   "cell_type": "code",
   "execution_count": 4,
   "id": "3188da7c-b0e3-49f2-8092-2e6246b7f4b1",
   "metadata": {},
   "outputs": [],
   "source": [
    "df = pd.DataFrame(data = model.model.reactions, columns = ['reaction'])"
   ]
  },
  {
   "cell_type": "code",
   "execution_count": 5,
   "id": "75904776-fa14-445d-a5bf-c83d5765a297",
   "metadata": {},
   "outputs": [],
   "source": [
    "df['reaction'] = df['reaction'].astype(str)"
   ]
  },
  {
   "cell_type": "code",
   "execution_count": 6,
   "id": "b6482094-e536-4270-9f09-e4e2076b0521",
   "metadata": {},
   "outputs": [
    {
     "name": "stdout",
     "output_type": "stream",
     "text": [
      "                                               reaction\n",
      "0        CYTDK2: cytd_c + gtp_c --> cmp_c + gdp_c + h_c\n",
      "1                XPPT: prpp_c + xan_c --> ppi_c + xmp_c\n",
      "2              HXPRT: hxan_c + prpp_c --> imp_c + ppi_c\n",
      "3              NDPK5: atp_c + dgdp_c <=> adp_c + dgtp_c\n",
      "4     SHK3Dr: 3dhsk_c + h_c + nadph_c <=> nadp_c + s...\n",
      "...                                                 ...\n",
      "2710  FESD2s: 2.0 4fe4s_c + 2.0 h_c + 2.0 no_c --> 2...\n",
      "2711  OCTNLL: atp_c + h_c + octa_c --> amp_c + octap...\n",
      "2712              PHAA: 2.0 accoa_c --> aacoa_c + coa_c\n",
      "2713  PHAB: aacoa_c + h_c + nadph_c --> hbcoa__3R_c ...\n",
      "2714                PHAC: hbcoa__3R_c --> coa_c + phb_c\n",
      "\n",
      "[2715 rows x 1 columns]\n"
     ]
    }
   ],
   "source": [
    "print(df)"
   ]
  },
  {
   "cell_type": "code",
   "execution_count": 7,
   "id": "63ee910b-537c-43dc-9f56-c39892613354",
   "metadata": {},
   "outputs": [],
   "source": [
    "reactions = df['reaction'].str.split(': ').str[0]; reactions = pd.DataFrame(reactions); reactions.columns = ['reaction']"
   ]
  },
  {
   "cell_type": "code",
   "execution_count": 8,
   "id": "1a63f912-286d-4a8d-9e75-c46a1929103b",
   "metadata": {},
   "outputs": [],
   "source": [
    "reactions['formula'] = df['reaction'].str.split(': ').str[1]"
   ]
  },
  {
   "cell_type": "code",
   "execution_count": 9,
   "id": "06e818ac-cbeb-49f6-86ca-d34835c6e480",
   "metadata": {},
   "outputs": [],
   "source": [
    "r = model.model.reactions"
   ]
  },
  {
   "cell_type": "code",
   "execution_count": 10,
   "id": "053d107f-fdc2-4687-9f0d-c82aed277bee",
   "metadata": {},
   "outputs": [],
   "source": [
    "r_names = []\n",
    "for reaction in r:\n",
    "    r_names.append(str(reaction.name))"
   ]
  },
  {
   "cell_type": "code",
   "execution_count": 11,
   "id": "eaaf89c3-7356-42e6-8226-7e044c59ba6b",
   "metadata": {},
   "outputs": [],
   "source": [
    "r_subsystems = []\n",
    "for reaction in r:\n",
    "    r_subsystems.append(str(reaction.subsystem))"
   ]
  },
  {
   "cell_type": "code",
   "execution_count": 12,
   "id": "84cce612-b638-4728-ba57-13ad80390d90",
   "metadata": {},
   "outputs": [],
   "source": [
    "reactions['name'] = r_names; reactions['subsystem'] = r_subsystems"
   ]
  },
  {
   "cell_type": "code",
   "execution_count": 13,
   "id": "7e644d1a-d375-4853-92db-ad476c0aa93e",
   "metadata": {},
   "outputs": [],
   "source": [
    "reactions = reactions[['name', 'subsystem', 'reaction', 'formula']]"
   ]
  },
  {
   "cell_type": "code",
   "execution_count": 14,
   "id": "d3b365fb-0c64-4017-9bd1-124073345dfb",
   "metadata": {},
   "outputs": [
    {
     "name": "stdout",
     "output_type": "stream",
     "text": [
      "                                                   name  \\\n",
      "0                                 Cytidine kinase (GTP)   \n",
      "1                    Xanthine phosphoribosyltransferase   \n",
      "2     Hypoxanthine phosphoribosyltransferase (Hypoxa...   \n",
      "3              Nucleoside-diphosphate kinase (ATP:dGDP)   \n",
      "4                               Shikimate dehydrogenase   \n",
      "...                                                 ...   \n",
      "2710  Iron-sulfur cluster damage (nitrous oxide, spo...   \n",
      "2711         Octanoate non-lipoylated apo domain ligase   \n",
      "2712                     Acetyl-CoA C-acetyltransferase   \n",
      "2713                          Acetoacetyl-CoA Reductase   \n",
      "2714                          PHA Synthase Subunit PhaC   \n",
      "\n",
      "                                              subsystem reaction  \\\n",
      "0                            Nucleotide Salvage Pathway   CYTDK2   \n",
      "1                            Nucleotide Salvage Pathway     XPPT   \n",
      "2                            Nucleotide Salvage Pathway    HXPRT   \n",
      "3                            Nucleotide Salvage Pathway    NDPK5   \n",
      "4     Tyrosine, Tryptophan, and Phenylalanine Metabo...   SHK3Dr   \n",
      "...                                                 ...      ...   \n",
      "2710         Cofactor and Prosthetic Group Biosynthesis   FESD2s   \n",
      "2711         Cofactor and Prosthetic Group Biosynthesis   OCTNLL   \n",
      "2712                                        pha Plasmid     PHAA   \n",
      "2713                                        pha Plasmid     PHAB   \n",
      "2714                                        pha Plasmid     PHAC   \n",
      "\n",
      "                                                formula  \n",
      "0                cytd_c + gtp_c --> cmp_c + gdp_c + h_c  \n",
      "1                      prpp_c + xan_c --> ppi_c + xmp_c  \n",
      "2                     hxan_c + prpp_c --> imp_c + ppi_c  \n",
      "3                     atp_c + dgdp_c <=> adp_c + dgtp_c  \n",
      "4            3dhsk_c + h_c + nadph_c <=> nadp_c + skm_c  \n",
      "...                                                 ...  \n",
      "2710  2.0 4fe4s_c + 2.0 h_c + 2.0 no_c --> 2.0 3fe4s...  \n",
      "2711  atp_c + h_c + octa_c --> amp_c + octapb_c + ppi_c  \n",
      "2712                    2.0 accoa_c --> aacoa_c + coa_c  \n",
      "2713   aacoa_c + h_c + nadph_c --> hbcoa__3R_c + nadp_c  \n",
      "2714                      hbcoa__3R_c --> coa_c + phb_c  \n",
      "\n",
      "[2715 rows x 4 columns]\n"
     ]
    }
   ],
   "source": [
    "print(reactions)"
   ]
  },
  {
   "cell_type": "code",
   "execution_count": 15,
   "id": "5cfdff80-2e8d-4fee-8a33-11a4d607ab8f",
   "metadata": {},
   "outputs": [],
   "source": [
    "reactions.to_csv('reactions.csv', index = False)"
   ]
  },
  {
   "cell_type": "code",
   "execution_count": 16,
   "id": "69af0226-513f-4db8-b43a-66e23016ef50",
   "metadata": {},
   "outputs": [],
   "source": [
    "metabolites = pd.DataFrame(data = model.model.metabolites, columns = ['metabolite'])"
   ]
  },
  {
   "cell_type": "code",
   "execution_count": 17,
   "id": "971a6276-c8e0-4fda-af4e-013803436109",
   "metadata": {},
   "outputs": [],
   "source": [
    "m = model.model.metabolites"
   ]
  },
  {
   "cell_type": "code",
   "execution_count": 18,
   "id": "a225932f-08f1-42d6-b768-88a271f61aaa",
   "metadata": {},
   "outputs": [],
   "source": [
    "m_names = []\n",
    "for metabolite in m:\n",
    "    m_names.append(str(metabolite.name))"
   ]
  },
  {
   "cell_type": "code",
   "execution_count": 19,
   "id": "d0847df3-e12f-4efc-9524-643d5afed90d",
   "metadata": {},
   "outputs": [],
   "source": [
    "metabolites['name'] = m_names"
   ]
  },
  {
   "cell_type": "code",
   "execution_count": 20,
   "id": "1edb5c7a-f902-4616-b211-782211cd8a73",
   "metadata": {},
   "outputs": [
    {
     "name": "stdout",
     "output_type": "stream",
     "text": [
      "       metabolite                        name\n",
      "0        octapb_c   Octanoate (protein bound)\n",
      "1       cysi__L_e       L Cystine C6H12N2O4S2\n",
      "2          dhap_c  Dihydroxyacetone phosphate\n",
      "3        prbatp_c    1-(5-Phosphoribosyl)-ATP\n",
      "4        10fthf_c   10-Formyltetrahydrofolate\n",
      "...           ...                         ...\n",
      "1874      tungs_e                   Tungstate\n",
      "1875      5fthf_c    5-Formyltetrahydrofolate\n",
      "1876  arbtn_fe3_c                  Aerobactin\n",
      "1877  hbcoa__3R_c   (R)-3-Hydroxybutanoyl-CoA\n",
      "1878        phb_c       (R)-3-hydroxybutyrate\n",
      "\n",
      "[1879 rows x 2 columns]\n"
     ]
    }
   ],
   "source": [
    "print(metabolites)"
   ]
  },
  {
   "cell_type": "code",
   "execution_count": 45,
   "id": "4642c0d2-a986-40cd-85eb-6d9e2d280efd",
   "metadata": {},
   "outputs": [],
   "source": [
    "metabolites.to_csv('metabolites.csv', index = False)"
   ]
  },
  {
   "cell_type": "code",
   "execution_count": 28,
   "id": "49cb3968-f686-4d05-9c68-1d045c977fd0",
   "metadata": {},
   "outputs": [],
   "source": [
    "genes = pd.DataFrame(data = model.model.genes, columns = ['gene'])"
   ]
  },
  {
   "cell_type": "code",
   "execution_count": 30,
   "id": "fde94526-63cd-4a5d-8aaf-f660b9fcba05",
   "metadata": {},
   "outputs": [],
   "source": [
    "g = model.model.genes"
   ]
  },
  {
   "cell_type": "code",
   "execution_count": 32,
   "id": "c973694b-ea16-4ed9-9e62-88219e045b09",
   "metadata": {},
   "outputs": [],
   "source": [
    "g_names = []\n",
    "for gene in g:\n",
    "    g_names.append(str(gene.name))"
   ]
  },
  {
   "cell_type": "code",
   "execution_count": 33,
   "id": "49b090bc-1609-4b4f-8670-1c1c71b0697f",
   "metadata": {},
   "outputs": [],
   "source": [
    "genes['name'] = g_names"
   ]
  },
  {
   "cell_type": "code",
   "execution_count": 29,
   "id": "62b845da-33ae-4f54-bee2-4265aa25d5be",
   "metadata": {},
   "outputs": [
    {
     "name": "stdout",
     "output_type": "stream",
     "text": [
      "       gene\n",
      "0     b2551\n",
      "1     b0870\n",
      "2     b3368\n",
      "3     b2436\n",
      "4     b0008\n",
      "...     ...\n",
      "1511  b3924\n",
      "1512  b4209\n",
      "1513  b1387\n",
      "1514  b1393\n",
      "1515  b2912\n",
      "\n",
      "[1516 rows x 1 columns]\n"
     ]
    }
   ],
   "source": [
    "print(genes)"
   ]
  },
  {
   "cell_type": "code",
   "execution_count": 34,
   "id": "42c259b1-b21e-4b77-b213-001849e4ac5b",
   "metadata": {},
   "outputs": [],
   "source": [
    "genes.to_csv('genes.csv', index = False)"
   ]
  }
 ],
 "metadata": {
  "kernelspec": {
   "display_name": "env",
   "language": "python",
   "name": "env"
  },
  "language_info": {
   "codemirror_mode": {
    "name": "ipython",
    "version": 3
   },
   "file_extension": ".py",
   "mimetype": "text/x-python",
   "name": "python",
   "nbconvert_exporter": "python",
   "pygments_lexer": "ipython3",
   "version": "3.8.8"
  }
 },
 "nbformat": 4,
 "nbformat_minor": 5
}
