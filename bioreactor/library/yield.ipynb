{
 "cells": [
  {
   "cell_type": "code",
   "execution_count": 3,
   "id": "5729e2f1-a92e-4060-be1d-589f8f84605c",
   "metadata": {},
   "outputs": [],
   "source": [
    "import cobra\n",
    "from cobra.flux_analysis import production_envelope\n",
    "\n",
    "import pandas as pd\n",
    "from plotnine import ggplot, geom_point, aes, stat_smooth, facet_wrap"
   ]
  },
  {
   "cell_type": "code",
   "execution_count": 4,
   "id": "58c38ba5-6b67-431c-b85c-548cc11b156a",
   "metadata": {},
   "outputs": [],
   "source": [
    "model_path = '../../models/json/iML1515.json'\n",
    "model = cobra.io.load_json_model(model_path)\n",
    "\n",
    "# add acetyl-coa demand\n",
    "model.add_boundary(model.metabolites.get_by_id(\"accoa_c\"), type=\"demand\")\n",
    "\n",
    "# set oxygen boundary\n",
    "model.reactions.get_by_id('EX_o2_e').lower_bound = -20\n",
    "\n",
    "# set glucose boundary\n",
    "model.reactions.get_by_id('EX_glc__D_e').lower_bound = -10\n",
    "\n",
    "# model.objective = \"DM_accoa_c\"\n",
    "\n",
    "# cobra.io.save_matlab_model(model, \"../../models/mat/test.mat\")"
   ]
  },
  {
   "cell_type": "code",
   "execution_count": 7,
   "id": "6c2cbf78-1a42-4f5d-9e0d-ea422219b8ea",
   "metadata": {},
   "outputs": [
    {
     "ename": "AttributeError",
     "evalue": "'Model' object has no attribute 'external_molecules'",
     "output_type": "error",
     "traceback": [
      "\u001b[0;31m---------------------------------------------------------------------------\u001b[0m",
      "\u001b[0;31mAttributeError\u001b[0m                            Traceback (most recent call last)",
      "\u001b[0;32m/var/folders/9w/hszfvw392q983b9b3bn4zqsw0000gn/T/ipykernel_21174/726054651.py\u001b[0m in \u001b[0;36m<module>\u001b[0;34m\u001b[0m\n\u001b[1;32m      4\u001b[0m         for molecule in self.external_molecules]\n\u001b[1;32m      5\u001b[0m \u001b[0;34m\u001b[0m\u001b[0m\n\u001b[0;32m----> 6\u001b[0;31m \u001b[0mprint\u001b[0m\u001b[0;34m(\u001b[0m\u001b[0mexternal_reactions\u001b[0m\u001b[0;34m(\u001b[0m\u001b[0mmodel\u001b[0m\u001b[0;34m)\u001b[0m\u001b[0;34m)\u001b[0m\u001b[0;34m\u001b[0m\u001b[0;34m\u001b[0m\u001b[0m\n\u001b[0m",
      "\u001b[0;32m/var/folders/9w/hszfvw392q983b9b3bn4zqsw0000gn/T/ipykernel_21174/726054651.py\u001b[0m in \u001b[0;36mexternal_reactions\u001b[0;34m(self)\u001b[0m\n\u001b[1;32m      2\u001b[0m     return [\n\u001b[1;32m      3\u001b[0m         \u001b[0;34m'EX_'\u001b[0m \u001b[0;34m+\u001b[0m \u001b[0mmolecule\u001b[0m\u001b[0;34m\u001b[0m\u001b[0;34m\u001b[0m\u001b[0m\n\u001b[0;32m----> 4\u001b[0;31m         for molecule in self.external_molecules]\n\u001b[0m\u001b[1;32m      5\u001b[0m \u001b[0;34m\u001b[0m\u001b[0m\n\u001b[1;32m      6\u001b[0m \u001b[0mprint\u001b[0m\u001b[0;34m(\u001b[0m\u001b[0mexternal_reactions\u001b[0m\u001b[0;34m(\u001b[0m\u001b[0mmodel\u001b[0m\u001b[0;34m)\u001b[0m\u001b[0;34m)\u001b[0m\u001b[0;34m\u001b[0m\u001b[0;34m\u001b[0m\u001b[0m\n",
      "\u001b[0;31mAttributeError\u001b[0m: 'Model' object has no attribute 'external_molecules'"
     ]
    }
   ],
   "source": [
    "\n",
    "\n",
    "def external_reactions(self):\n",
    "    return [\n",
    "        'EX_' + molecule\n",
    "        for molecule in self.external_molecules]\n",
    "\n",
    "print(external_reaction)"
   ]
  },
  {
   "cell_type": "code",
   "execution_count": 58,
   "id": "024668af-441d-4f7b-abd9-12b770781655",
   "metadata": {},
   "outputs": [
    {
     "name": "stdout",
     "output_type": "stream",
     "text": [
      "production rate:  0.821797933626578\n",
      "accoa_c\n",
      "=======\n",
      "Formula: C23H34N7O17P3S\n",
      "\n",
      "Producing Reactions\n",
      "-------------------\n",
      "Percent      Flux Reaction                                                         Definition\n",
      "  0.00% 0.0003682    PAI2T                              coa_c + dhptdd_c --> accoa_c + dhap_c\n",
      " 99.12%     10.14      PDH                 coa_c + nad_c + pyr_c --> accoa_c + co2_c + nadh_c\n",
      "  0.87%   0.08937     POR5 coa_c + 2.0 flxso_c + pyr_c <=> accoa_c + co2_c + 2.0 flxr_c + h_c\n",
      "\n",
      "Consuming Reactions\n",
      "-------------------\n",
      "Percent     Flux Reaction                                                 Definition\n",
      "  5.72%  -0.5849  ACACT1r                            2.0 accoa_c <=> aacoa_c + coa_c\n",
      "  2.86%  -0.2925  ACACT2r                     accoa_c + btcoa_c <=> 3ohcoa_c + coa_c\n",
      "  2.86%  -0.2925  ACACT3r                     accoa_c + hxcoa_c <=> 3oocoa_c + coa_c\n",
      "  2.86%  -0.2925  ACACT4r                     accoa_c + occoa_c <=> 3odcoa_c + coa_c\n",
      "  2.86%  -0.2925  ACACT5r                   accoa_c + dcacoa_c <=> 3oddcoa_c + coa_c\n",
      "  2.23%  -0.2285  ACACT6r                  accoa_c + ddcacoa_c <=> 3otdcoa_c + coa_c\n",
      "  2.23%  -0.2285  ACACT7r                    accoa_c + tdcoa_c <=> 3ohdcoa_c + coa_c\n",
      "  0.63% -0.06396   ACCOAC accoa_c + atp_c + hco3_c --> adp_c + h_c + malcoa_c + pi_c\n",
      "  2.38%  -0.2431     ACGS               accoa_c + glu__L_c --> acglu_c + coa_c + h_c\n",
      " 51.62%    -5.28       CS            accoa_c + h2o_c + oaa_c --> cit_c + coa_c + h_c\n",
      "  0.76% -0.07765   G1PACT              accoa_c + gam1p_c --> acgam1p_c + coa_c + h_c\n",
      "  3.62%  -0.3702     IPPS        3mob_c + accoa_c + h2o_c --> 3c3hmp_c + coa_c + h_c\n",
      " 17.39%   -1.778     PTAr                          accoa_c + pi_c <=> actp_c + coa_c\n",
      "  1.99%  -0.2034    SERAT                     accoa_c + ser__L_c <=> acser_c + coa_c\n"
     ]
    }
   ],
   "source": [
    "# set model objective to acetyl-coa demand\n",
    "\n",
    "solution = model.optimize()\n",
    "\n",
    "print('production rate: ', solution.objective_value)\n",
    "print(model.metabolites.accoa_c.summary())"
   ]
  },
  {
   "cell_type": "code",
   "execution_count": 59,
   "id": "00aa5f6c-e759-4e5f-922b-9477b4707070",
   "metadata": {},
   "outputs": [
    {
     "name": "stdout",
     "output_type": "stream",
     "text": [
      "production rate:  0.7565406542464496\n",
      "accoa_c\n",
      "=======\n",
      "Formula: C23H34N7O17P3S\n",
      "\n",
      "Producing Reactions\n",
      "-------------------\n",
      "Percent      Flux Reaction                                                         Definition\n",
      "  0.01% 0.0003389    PAI2T                              coa_c + dhptdd_c --> accoa_c + dhap_c\n",
      " 98.52%     5.495      PDH                 coa_c + nad_c + pyr_c --> accoa_c + co2_c + nadh_c\n",
      "  1.48%   0.08228     POR5 coa_c + 2.0 flxso_c + pyr_c <=> accoa_c + co2_c + 2.0 flxr_c + h_c\n",
      "\n",
      "Consuming Reactions\n",
      "-------------------\n",
      "Percent       Flux Reaction                                                 Definition\n",
      "  9.65%    -0.5385  ACACT1r                            2.0 accoa_c <=> aacoa_c + coa_c\n",
      "  4.83%    -0.2692  ACACT2r                     accoa_c + btcoa_c <=> 3ohcoa_c + coa_c\n",
      "  4.83%    -0.2692  ACACT3r                     accoa_c + hxcoa_c <=> 3oocoa_c + coa_c\n",
      "  4.83%    -0.2692  ACACT4r                     accoa_c + occoa_c <=> 3odcoa_c + coa_c\n",
      "  4.83%    -0.2692  ACACT5r                   accoa_c + dcacoa_c <=> 3oddcoa_c + coa_c\n",
      "  3.77%    -0.2104  ACACT6r                  accoa_c + ddcacoa_c <=> 3otdcoa_c + coa_c\n",
      "  3.77%    -0.2104  ACACT7r                    accoa_c + tdcoa_c <=> 3ohdcoa_c + coa_c\n",
      "  1.06%   -0.05888   ACCOAC accoa_c + atp_c + hco3_c --> adp_c + h_c + malcoa_c + pi_c\n",
      "  4.01%    -0.2238     ACGS               accoa_c + glu__L_c --> acglu_c + coa_c + h_c\n",
      " 14.58%    -0.8134       CS            accoa_c + h2o_c + oaa_c --> cit_c + coa_c + h_c\n",
      "  1.28%   -0.07148   G1PACT              accoa_c + gam1p_c --> acgam1p_c + coa_c + h_c\n",
      "  6.11%    -0.3408     IPPS        3mob_c + accoa_c + h2o_c --> 3c3hmp_c + coa_c + h_c\n",
      "  0.01% -0.0005061     MALS         accoa_c + glx_c + h2o_c --> coa_c + h_c + mal__L_c\n",
      " 33.09%     -1.845     PTAr                          accoa_c + pi_c <=> actp_c + coa_c\n",
      "  3.36%    -0.1872    SERAT                     accoa_c + ser__L_c <=> acser_c + coa_c\n"
     ]
    }
   ],
   "source": [
    "# reaction knockouts\n",
    "\n",
    "# model.reactions.PTAr.knock_out() # PTAr\n",
    "# model.reactions.ACKr.knock_out() # ACKr\n",
    "model.reactions.FUM.knock_out() # FUM\n",
    "model.reactions.SUCOAS.knock_out() # SUC\n",
    "\n",
    "solution = model.optimize()\n",
    "\n",
    "print('production rate: ', solution.objective_value)\n",
    "print(model.metabolites.accoa_c.summary())"
   ]
  },
  {
   "cell_type": "code",
   "execution_count": 60,
   "id": "a0d42cda-462b-48b8-a399-11464f6da1dc",
   "metadata": {},
   "outputs": [
    {
     "data": {
      "text/html": [
       "<div>\n",
       "<style scoped>\n",
       "    .dataframe tbody tr th:only-of-type {\n",
       "        vertical-align: middle;\n",
       "    }\n",
       "\n",
       "    .dataframe tbody tr th {\n",
       "        vertical-align: top;\n",
       "    }\n",
       "\n",
       "    .dataframe thead th {\n",
       "        text-align: right;\n",
       "    }\n",
       "</style>\n",
       "<table border=\"1\" class=\"dataframe\">\n",
       "  <thead>\n",
       "    <tr style=\"text-align: right;\">\n",
       "      <th></th>\n",
       "      <th>carbon_source</th>\n",
       "      <th>flux_minimum</th>\n",
       "      <th>carbon_yield_minimum</th>\n",
       "      <th>mass_yield_minimum</th>\n",
       "      <th>flux_maximum</th>\n",
       "      <th>carbon_yield_maximum</th>\n",
       "      <th>mass_yield_maximum</th>\n",
       "      <th>EX_o2_e</th>\n",
       "    </tr>\n",
       "  </thead>\n",
       "  <tbody>\n",
       "    <tr>\n",
       "      <th>0</th>\n",
       "      <td>EX_glc__D_e</td>\n",
       "      <td>0.0</td>\n",
       "      <td>0.0</td>\n",
       "      <td>0.0</td>\n",
       "      <td>1.5675</td>\n",
       "      <td>0.600875</td>\n",
       "      <td>0.700883</td>\n",
       "      <td>-20.000000</td>\n",
       "    </tr>\n",
       "    <tr>\n",
       "      <th>1</th>\n",
       "      <td>EX_glc__D_e</td>\n",
       "      <td>0.0</td>\n",
       "      <td>0.0</td>\n",
       "      <td>0.0</td>\n",
       "      <td>1.5675</td>\n",
       "      <td>0.600875</td>\n",
       "      <td>0.700883</td>\n",
       "      <td>-18.947368</td>\n",
       "    </tr>\n",
       "    <tr>\n",
       "      <th>2</th>\n",
       "      <td>EX_glc__D_e</td>\n",
       "      <td>0.0</td>\n",
       "      <td>0.0</td>\n",
       "      <td>0.0</td>\n",
       "      <td>1.5675</td>\n",
       "      <td>0.600875</td>\n",
       "      <td>0.700883</td>\n",
       "      <td>-17.894737</td>\n",
       "    </tr>\n",
       "    <tr>\n",
       "      <th>3</th>\n",
       "      <td>EX_glc__D_e</td>\n",
       "      <td>0.0</td>\n",
       "      <td>0.0</td>\n",
       "      <td>0.0</td>\n",
       "      <td>1.5675</td>\n",
       "      <td>0.600875</td>\n",
       "      <td>0.700883</td>\n",
       "      <td>-16.842105</td>\n",
       "    </tr>\n",
       "    <tr>\n",
       "      <th>4</th>\n",
       "      <td>EX_glc__D_e</td>\n",
       "      <td>0.0</td>\n",
       "      <td>0.0</td>\n",
       "      <td>0.0</td>\n",
       "      <td>1.5675</td>\n",
       "      <td>0.600875</td>\n",
       "      <td>0.700883</td>\n",
       "      <td>-15.789474</td>\n",
       "    </tr>\n",
       "  </tbody>\n",
       "</table>\n",
       "</div>"
      ],
      "text/plain": [
       "  carbon_source  flux_minimum  carbon_yield_minimum  mass_yield_minimum  \\\n",
       "0   EX_glc__D_e           0.0                   0.0                 0.0   \n",
       "1   EX_glc__D_e           0.0                   0.0                 0.0   \n",
       "2   EX_glc__D_e           0.0                   0.0                 0.0   \n",
       "3   EX_glc__D_e           0.0                   0.0                 0.0   \n",
       "4   EX_glc__D_e           0.0                   0.0                 0.0   \n",
       "\n",
       "   flux_maximum  carbon_yield_maximum  mass_yield_maximum    EX_o2_e  \n",
       "0        1.5675              0.600875            0.700883 -20.000000  \n",
       "1        1.5675              0.600875            0.700883 -18.947368  \n",
       "2        1.5675              0.600875            0.700883 -17.894737  \n",
       "3        1.5675              0.600875            0.700883 -16.842105  \n",
       "4        1.5675              0.600875            0.700883 -15.789474  "
      ]
     },
     "execution_count": 60,
     "metadata": {},
     "output_type": "execute_result"
    }
   ],
   "source": [
    "prod_env = production_envelope(\n",
    "    model, [\"EX_o2_e\"], objective=\"DM_accoa_c\", carbon_sources=\"EX_glc__D_e\")\n",
    "\n",
    "prod_env.head()"
   ]
  },
  {
   "cell_type": "code",
   "execution_count": 61,
   "id": "96f80ebb-54ee-45e8-8ad6-999d48492211",
   "metadata": {},
   "outputs": [
    {
     "data": {
      "image/png": "[encoded data removed]",
      "text/plain": [
       "<Figure size 432x288 with 1 Axes>"
      ]
     },
     "metadata": {
      "needs_background": "light"
     },
     "output_type": "display_data"
    },
    {
     "data": {
      "image/png": "[encoded data removed]",
      "text/plain": [
       "<Figure size 432x288 with 1 Axes>"
      ]
     },
     "metadata": {
      "needs_background": "light"
     },
     "output_type": "display_data"
    },
    {
     "data": {
      "image/png": "[encoded data removed]",
      "text/plain": [
       "<Figure size 432x288 with 1 Axes>"
      ]
     },
     "metadata": {
      "needs_background": "light"
     },
     "output_type": "display_data"
    }
   ],
   "source": [
    "%matplotlib inline\n",
    "\n",
    "prod_env.plot(\n",
    "    kind='line', x='EX_o2_e', y='carbon_yield_maximum');\n",
    "\n",
    "prod_env.plot(\n",
    "    kind='line', x='EX_o2_e', y='flux_maximum');\n",
    "\n",
    "prod_env.plot(\n",
    "    kind='line', x='EX_o2_e', y='mass_yield_maximum');"
   ]
  },
  {
   "cell_type": "code",
   "execution_count": null,
   "id": "4602097d-e1d5-499e-b6c2-6e8130a31140",
   "metadata": {},
   "outputs": [],
   "source": []
  }
 ],
 "metadata": {
  "kernelspec": {
   "display_name": "env",
   "language": "python",
   "name": "env"
  },
  "language_info": {
   "codemirror_mode": {
    "name": "ipython",
    "version": 3
   },
   "file_extension": ".py",
   "mimetype": "text/x-python",
   "name": "python",
   "nbconvert_exporter": "python",
   "pygments_lexer": "ipython3",
   "version": "3.9.7"
  }
 },
 "nbformat": 4,
 "nbformat_minor": 5
}
