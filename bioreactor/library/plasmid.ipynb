{
 "cells": [
  {
   "cell_type": "code",
   "execution_count": 23,
   "id": "1e7f7ad6-0f6c-4381-bc0f-b00617763b78",
   "metadata": {},
   "outputs": [],
   "source": [
    "import cobra\n",
    "import pandas as pd\n",
    "import cobra_fba as cfba"
   ]
  },
  {
   "cell_type": "code",
   "execution_count": 119,
   "id": "0efae7f5-12a7-4e03-9f96-07b4f136682f",
   "metadata": {},
   "outputs": [],
   "source": [
    "model = cfba.FBA({'model_path': '../../models/json/iML1515.json'})"
   ]
  },
  {
   "cell_type": "code",
   "execution_count": 120,
   "id": "b2f27924-8cb2-4e9e-8eb8-db4c2aab2190",
   "metadata": {},
   "outputs": [],
   "source": [
    "phaA = cobra.Reaction('PHAA')\n",
    "phaA.name = 'Acetyl-CoA C-acetyltransferase'\n",
    "phaA.subsystem = 'pha Plasmid'\n",
    "phaA.lower_bound = -1000.\n",
    "phaA.upper_bound = 1000.\n",
    "\n",
    "phaB = cobra.Reaction('PHAB')\n",
    "phaB.name = 'Acetoacetyl-CoA Reductase'\n",
    "phaB.subsystem = 'pha Plasmid'\n",
    "phaB.lower_bound = -1000.\n",
    "phaB.upper_bound = 1000.\n",
    "\n",
    "phaC = cobra.Reaction('PHAC')\n",
    "phaC.name = 'PHA Synthase Subunit PhaC'\n",
    "phaC.subsystem = 'pha Plasmid'\n",
    "phaC.lower_bound = -1000.\n",
    "phaC.upper_bound = 1000."
   ]
  },
  {
   "cell_type": "code",
   "execution_count": 121,
   "id": "b7180cfa-90ca-424a-86d1-64f6b47a4317",
   "metadata": {},
   "outputs": [],
   "source": [
    "hbcoa__3R_c = cobra.Metabolite(\n",
    "    'hbcoa__3R_c',\n",
    "    formula = 'C25H38N7O18P3S',\n",
    "    name = '(R)-3-Hydroxybutanoyl-CoA',\n",
    "    compartment = 'c')\n",
    "\n",
    "phb_c = cobra.Metabolite(\n",
    "    'phb_c',\n",
    "    formula = 'C4H6O2',\n",
    "    name = '(R)-3-hydroxybutyrate',\n",
    "    compartment = 'c')\n",
    "\n",
    "accoa_c = model.model.metabolites.accoa_c\n",
    "\n",
    "aacoa_c = model.model.metabolites.aacoa_c\n",
    "\n",
    "coa_c = model.model.metabolites.coa_c\n",
    "\n",
    "nadph_c = model.model.metabolites.nadph_c\n",
    "\n",
    "nadp_c = model.model.metabolites.nadp_c\n",
    "\n",
    "h_c = model.model.metabolites.h_c\n"
   ]
  },
  {
   "cell_type": "code",
   "execution_count": 122,
   "id": "62abf56e-1f9f-4ea8-94d8-e69274709871",
   "metadata": {},
   "outputs": [],
   "source": [
    "phaA.add_metabolites({\n",
    "    accoa_c: -2.0,\n",
    "    aacoa_c: 1.0,\n",
    "    coa_c: 1.0\n",
    "})\n",
    "\n",
    "phaB.add_metabolites({\n",
    "    aacoa_c: -1.0,\n",
    "    h_c: -1.0,\n",
    "    nadph_c: -1.0,\n",
    "    nadp_c: 1.0,\n",
    "    hbcoa__3R_c: 1.0\n",
    "})\n",
    "\n",
    "phaC.add_metabolites({\n",
    "    hbcoa__3R_c: -1.0,\n",
    "    phb_c: 1.0,\n",
    "    coa_c: 1.0\n",
    "})"
   ]
  },
  {
   "cell_type": "code",
   "execution_count": 123,
   "id": "85f5f1f6-c865-421c-b794-cdc0d2db3f42",
   "metadata": {},
   "outputs": [],
   "source": [
    "phaA.gene_reaction_rule = '( phaA )'\n",
    "phaB.gene_reaction_rule = '( phaB )'\n",
    "phaC.gene_reaction_rule = '( phaC )'"
   ]
  },
  {
   "cell_type": "code",
   "execution_count": 124,
   "id": "616f390f-2282-4af0-ac49-ec74ecd3c09c",
   "metadata": {},
   "outputs": [],
   "source": [
    "model.model.add_reactions([phaA, phaB, phaC])\n",
    "# model.model.add_boundary(phb_c, type = 'exchange')"
   ]
  },
  {
   "cell_type": "code",
   "execution_count": 125,
   "id": "5ce09b02-cb7e-423c-8f90-ab7b189cf9e9",
   "metadata": {},
   "outputs": [
    {
     "data": {
      "text/html": [
       "\n",
       "        <table>\n",
       "            <tr>\n",
       "                <td><strong>Reaction identifier</strong></td><td>PHAA</td>\n",
       "            </tr><tr>\n",
       "                <td><strong>Name</strong></td><td>Acetyl-CoA C-acetyltransferase</td>\n",
       "            </tr><tr>\n",
       "                <td><strong>Memory address</strong></td>\n",
       "                <td>0x07fed04370640</td>\n",
       "            </tr><tr>\n",
       "                <td><strong>Stoichiometry</strong></td>\n",
       "                <td>\n",
       "                    <p style='text-align:right'>2.0 accoa_c <=> aacoa_c + coa_c</p>\n",
       "                    <p style='text-align:right'>2.0 Acetyl-CoA <=> Acetoacetyl-CoA + Coenzyme A</p>\n",
       "                </td>\n",
       "            </tr><tr>\n",
       "                <td><strong>GPR</strong></td><td>( phaA )</td>\n",
       "            </tr><tr>\n",
       "                <td><strong>Lower bound</strong></td><td>-1000.0</td>\n",
       "            </tr><tr>\n",
       "                <td><strong>Upper bound</strong></td><td>1000.0</td>\n",
       "            </tr>\n",
       "        </table>\n",
       "        "
      ],
      "text/plain": [
       "<Reaction PHAA at 0x7fed04370640>"
      ]
     },
     "execution_count": 125,
     "metadata": {},
     "output_type": "execute_result"
    }
   ],
   "source": [
    "model.model.reactions.PHAA"
   ]
  },
  {
   "cell_type": "code",
   "execution_count": 126,
   "id": "0bb07996-741a-4413-b43a-ff4084551dbf",
   "metadata": {},
   "outputs": [
    {
     "data": {
      "text/html": [
       "\n",
       "        <table>\n",
       "            <tr>\n",
       "                <td><strong>Reaction identifier</strong></td><td>PHAB</td>\n",
       "            </tr><tr>\n",
       "                <td><strong>Name</strong></td><td>Acetoacetyl-CoA Reductase</td>\n",
       "            </tr><tr>\n",
       "                <td><strong>Memory address</strong></td>\n",
       "                <td>0x07fed04370580</td>\n",
       "            </tr><tr>\n",
       "                <td><strong>Stoichiometry</strong></td>\n",
       "                <td>\n",
       "                    <p style='text-align:right'>aacoa_c + h_c + nadph_c <=> hbcoa__3R_c + nadp_c</p>\n",
       "                    <p style='text-align:right'>Acetoacetyl-CoA + H+ + Nicotinamide adenine dinucleotide phosphate - reduced <=> (R)-3-Hydroxybutanoyl-CoA + Nicotinamide adenine dinucleotide phosphate</p>\n",
       "                </td>\n",
       "            </tr><tr>\n",
       "                <td><strong>GPR</strong></td><td>( phaB )</td>\n",
       "            </tr><tr>\n",
       "                <td><strong>Lower bound</strong></td><td>-1000.0</td>\n",
       "            </tr><tr>\n",
       "                <td><strong>Upper bound</strong></td><td>1000.0</td>\n",
       "            </tr>\n",
       "        </table>\n",
       "        "
      ],
      "text/plain": [
       "<Reaction PHAB at 0x7fed04370580>"
      ]
     },
     "execution_count": 126,
     "metadata": {},
     "output_type": "execute_result"
    }
   ],
   "source": [
    "model.model.reactions.PHAB"
   ]
  },
  {
   "cell_type": "code",
   "execution_count": 127,
   "id": "14f93a46-239f-4c56-983e-0e7431eb852b",
   "metadata": {},
   "outputs": [
    {
     "data": {
      "text/html": [
       "\n",
       "        <table>\n",
       "            <tr>\n",
       "                <td><strong>Reaction identifier</strong></td><td>PHAC</td>\n",
       "            </tr><tr>\n",
       "                <td><strong>Name</strong></td><td>PHA Synthase Subunit PhaC</td>\n",
       "            </tr><tr>\n",
       "                <td><strong>Memory address</strong></td>\n",
       "                <td>0x07fed04370670</td>\n",
       "            </tr><tr>\n",
       "                <td><strong>Stoichiometry</strong></td>\n",
       "                <td>\n",
       "                    <p style='text-align:right'>hbcoa__3R_c <=> coa_c + phb_c</p>\n",
       "                    <p style='text-align:right'>(R)-3-Hydroxybutanoyl-CoA <=> Coenzyme A + (R)-3-hydroxybutyrate</p>\n",
       "                </td>\n",
       "            </tr><tr>\n",
       "                <td><strong>GPR</strong></td><td>( phaC )</td>\n",
       "            </tr><tr>\n",
       "                <td><strong>Lower bound</strong></td><td>-1000.0</td>\n",
       "            </tr><tr>\n",
       "                <td><strong>Upper bound</strong></td><td>1000.0</td>\n",
       "            </tr>\n",
       "        </table>\n",
       "        "
      ],
      "text/plain": [
       "<Reaction PHAC at 0x7fed04370670>"
      ]
     },
     "execution_count": 127,
     "metadata": {},
     "output_type": "execute_result"
    }
   ],
   "source": [
    "model.model.reactions.PHAC"
   ]
  },
  {
   "cell_type": "code",
   "execution_count": 113,
   "id": "12c2d367-9951-474d-88d5-0b28b9d860a3",
   "metadata": {},
   "outputs": [],
   "source": [
    "cobra.io.save_json_model(model.model, '../../models/json/test.json')"
   ]
  },
  {
   "cell_type": "code",
   "execution_count": 128,
   "id": "246dc759-daba-4f2b-ae84-bf4e3ca607b0",
   "metadata": {},
   "outputs": [
    {
     "name": "stdout",
     "output_type": "stream",
     "text": [
      "1.0*PHAB - 1.0*PHAB_reverse_34919\n",
      "max\n"
     ]
    }
   ],
   "source": [
    "model.model.objective = 'PHAB'\n",
    "print(model.model.objective.expression)\n",
    "print(model.model.objective.direction)\n"
   ]
  },
  {
   "cell_type": "code",
   "execution_count": 129,
   "id": "9f46e504-5d2d-49a2-a8ae-ce148377ee93",
   "metadata": {},
   "outputs": [
    {
     "name": "stdout",
     "output_type": "stream",
     "text": [
      "accoa_c\n",
      "=======\n",
      "Formula: C23H34N7O17P3S\n",
      "\n",
      "Producing Reactions\n",
      "-------------------\n",
      "Percent   Flux Reaction                                         Definition\n",
      "100.00% 0.5838      PDH coa_c + nad_c + pyr_c --> accoa_c + co2_c + nadh_c\n",
      "\n",
      "Consuming Reactions\n",
      "-------------------\n",
      "Percent    Flux Reaction                                      Definition\n",
      "100.00% -0.5838       CS accoa_c + h2o_c + oaa_c --> cit_c + coa_c + h_c\n",
      "hbcoa__3R_c\n",
      "===========\n",
      "Formula: C25H38N7O18P3S\n",
      "\n",
      "Producing Reactions\n",
      "-------------------\n",
      "Empty DataFrame\n",
      "Columns: [Percent, Flux, Reaction, Definition]\n",
      "Index: []\n",
      "\n",
      "Consuming Reactions\n",
      "-------------------\n",
      "Empty DataFrame\n",
      "Columns: [Percent, Flux, Reaction, Definition]\n",
      "Index: []\n",
      "nadph_c\n",
      "=======\n",
      "Formula: C21H26N7O17P3\n",
      "\n",
      "Producing Reactions\n",
      "-------------------\n",
      "Percent   Flux Reaction                                  Definition\n",
      "100.00% 0.5838   ICDHyr icit_c + nadp_c <=> akg_c + co2_c + nadph_c\n",
      "\n",
      "Consuming Reactions\n",
      "-------------------\n",
      "Percent    Flux Reaction                          Definition\n",
      "100.00% -0.5838  NADTRHD nad_c + nadph_c --> nadh_c + nadp_c\n"
     ]
    }
   ],
   "source": [
    "model.model.optimize()\n",
    "print(model.model.metabolites.accoa_c.summary())\n",
    "print(model.model.metabolites.hbcoa__3R_c.summary())\n",
    "print(model.model.metabolites.nadph_c.summary())"
   ]
  },
  {
   "cell_type": "code",
   "execution_count": 63,
   "id": "2cb9d20e-461b-440a-9109-230eed21b8eb",
   "metadata": {},
   "outputs": [
    {
     "data": {
      "text/plain": [
       "{'glc__D_e': 0.623636363636364, 'o2_e': 1.2472727272727284}"
      ]
     },
     "execution_count": 63,
     "metadata": {},
     "output_type": "execute_result"
    }
   ],
   "source": [
    "model.minimal_external()"
   ]
  },
  {
   "cell_type": "code",
   "execution_count": 84,
   "id": "9163f304-fbc3-49e3-8484-0baee39e7f8e",
   "metadata": {},
   "outputs": [
    {
     "name": "stdout",
     "output_type": "stream",
     "text": [
      "(<Model iML1515 at 0x7feceb8c2940>,\n",
      " {'COBRA_CHECK': [],\n",
      "  'COBRA_ERROR': [],\n",
      "  'COBRA_FATAL': [],\n",
      "  'COBRA_WARNING': [],\n",
      "  'SBML_ERROR': [],\n",
      "  'SBML_FATAL': [],\n",
      "  'SBML_SCHEMA_ERROR': [],\n",
      "  'SBML_WARNING': []})\n"
     ]
    }
   ],
   "source": [
    "import tempfile\n",
    "from pprint import pprint\n",
    "from cobra.io import write_sbml_model, validate_sbml_model\n",
    "with tempfile.NamedTemporaryFile(suffix='.xml') as f_sbml:\n",
    "    write_sbml_model(model.model, filename=f_sbml.name)\n",
    "    report = validate_sbml_model(filename=f_sbml.name)\n",
    "\n",
    "pprint(report)"
   ]
  },
  {
   "cell_type": "code",
   "execution_count": 102,
   "id": "ac1bd1ef-8379-4c5b-8189-53c26b22a80c",
   "metadata": {},
   "outputs": [
    {
     "ename": "AttributeError",
     "evalue": "DictList has no attribute or entry get_by_name",
     "output_type": "error",
     "traceback": [
      "\u001b[0;31m---------------------------------------------------------------------------\u001b[0m",
      "\u001b[0;31mKeyError\u001b[0m                                  Traceback (most recent call last)",
      "\u001b[0;32m~/Documents/Research/transfoam/bioreactor/env/lib/python3.8/site-packages/cobra/core/dictlist.py\u001b[0m in \u001b[0;36m__getattr__\u001b[0;34m(self, attr)\u001b[0m\n\u001b[1;32m    454\u001b[0m         \u001b[0;32mtry\u001b[0m\u001b[0;34m:\u001b[0m\u001b[0;34m\u001b[0m\u001b[0;34m\u001b[0m\u001b[0m\n\u001b[0;32m--> 455\u001b[0;31m             \u001b[0;32mreturn\u001b[0m \u001b[0mDictList\u001b[0m\u001b[0;34m.\u001b[0m\u001b[0mget_by_id\u001b[0m\u001b[0;34m(\u001b[0m\u001b[0mself\u001b[0m\u001b[0;34m,\u001b[0m \u001b[0mattr\u001b[0m\u001b[0;34m)\u001b[0m\u001b[0;34m\u001b[0m\u001b[0;34m\u001b[0m\u001b[0m\n\u001b[0m\u001b[1;32m    456\u001b[0m         \u001b[0;32mexcept\u001b[0m \u001b[0mKeyError\u001b[0m\u001b[0;34m:\u001b[0m\u001b[0;34m\u001b[0m\u001b[0;34m\u001b[0m\u001b[0m\n",
      "\u001b[0;32m~/Documents/Research/transfoam/bioreactor/env/lib/python3.8/site-packages/cobra/core/dictlist.py\u001b[0m in \u001b[0;36mget_by_id\u001b[0;34m(self, id)\u001b[0m\n\u001b[1;32m     57\u001b[0m         \u001b[0;34m\"\"\"return the element with a matching id\"\"\"\u001b[0m\u001b[0;34m\u001b[0m\u001b[0;34m\u001b[0m\u001b[0m\n\u001b[0;32m---> 58\u001b[0;31m         \u001b[0;32mreturn\u001b[0m \u001b[0mlist\u001b[0m\u001b[0;34m.\u001b[0m\u001b[0m__getitem__\u001b[0m\u001b[0;34m(\u001b[0m\u001b[0mself\u001b[0m\u001b[0;34m,\u001b[0m \u001b[0mself\u001b[0m\u001b[0;34m.\u001b[0m\u001b[0m_dict\u001b[0m\u001b[0;34m[\u001b[0m\u001b[0mid\u001b[0m\u001b[0;34m]\u001b[0m\u001b[0;34m)\u001b[0m\u001b[0;34m\u001b[0m\u001b[0;34m\u001b[0m\u001b[0m\n\u001b[0m\u001b[1;32m     59\u001b[0m \u001b[0;34m\u001b[0m\u001b[0m\n",
      "\u001b[0;31mKeyError\u001b[0m: 'get_by_name'",
      "\nDuring handling of the above exception, another exception occurred:\n",
      "\u001b[0;31mAttributeError\u001b[0m                            Traceback (most recent call last)",
      "\u001b[0;32m/var/folders/9w/hszfvw392q983b9b3bn4zqsw0000gn/T/ipykernel_19634/1179479008.py\u001b[0m in \u001b[0;36m<module>\u001b[0;34m\u001b[0m\n\u001b[0;32m----> 1\u001b[0;31m \u001b[0mprint\u001b[0m\u001b[0;34m(\u001b[0m\u001b[0mdir\u001b[0m\u001b[0;34m(\u001b[0m\u001b[0mmodel\u001b[0m\u001b[0;34m.\u001b[0m\u001b[0mmodel\u001b[0m\u001b[0;34m.\u001b[0m\u001b[0mmetabolites\u001b[0m\u001b[0;34m.\u001b[0m\u001b[0mget_by_name\u001b[0m\u001b[0;34m(\u001b[0m\u001b[0;34m'(S)-3-Hydroxybutanoyl-CoA'\u001b[0m\u001b[0;34m)\u001b[0m\u001b[0;34m)\u001b[0m\u001b[0;34m)\u001b[0m\u001b[0;34m\u001b[0m\u001b[0;34m\u001b[0m\u001b[0m\n\u001b[0m",
      "\u001b[0;32m~/Documents/Research/transfoam/bioreactor/env/lib/python3.8/site-packages/cobra/core/dictlist.py\u001b[0m in \u001b[0;36m__getattr__\u001b[0;34m(self, attr)\u001b[0m\n\u001b[1;32m    455\u001b[0m             \u001b[0;32mreturn\u001b[0m \u001b[0mDictList\u001b[0m\u001b[0;34m.\u001b[0m\u001b[0mget_by_id\u001b[0m\u001b[0;34m(\u001b[0m\u001b[0mself\u001b[0m\u001b[0;34m,\u001b[0m \u001b[0mattr\u001b[0m\u001b[0;34m)\u001b[0m\u001b[0;34m\u001b[0m\u001b[0;34m\u001b[0m\u001b[0m\n\u001b[1;32m    456\u001b[0m         \u001b[0;32mexcept\u001b[0m \u001b[0mKeyError\u001b[0m\u001b[0;34m:\u001b[0m\u001b[0;34m\u001b[0m\u001b[0;34m\u001b[0m\u001b[0m\n\u001b[0;32m--> 457\u001b[0;31m             \u001b[0;32mraise\u001b[0m \u001b[0mAttributeError\u001b[0m\u001b[0;34m(\u001b[0m\u001b[0;34m\"DictList has no attribute or entry %s\"\u001b[0m \u001b[0;34m%\u001b[0m \u001b[0mattr\u001b[0m\u001b[0;34m)\u001b[0m\u001b[0;34m\u001b[0m\u001b[0;34m\u001b[0m\u001b[0m\n\u001b[0m\u001b[1;32m    458\u001b[0m \u001b[0;34m\u001b[0m\u001b[0m\n\u001b[1;32m    459\u001b[0m     \u001b[0;32mdef\u001b[0m \u001b[0m__dir__\u001b[0m\u001b[0;34m(\u001b[0m\u001b[0mself\u001b[0m\u001b[0;34m)\u001b[0m\u001b[0;34m:\u001b[0m\u001b[0;34m\u001b[0m\u001b[0;34m\u001b[0m\u001b[0m\n",
      "\u001b[0;31mAttributeError\u001b[0m: DictList has no attribute or entry get_by_name"
     ]
    }
   ],
   "source": [
    "print(dir(model.model.metabolites.get_by_name('(S)-3-Hydroxybutanoyl-CoA')))"
   ]
  },
  {
   "cell_type": "code",
   "execution_count": null,
   "id": "48dcd9d5-9992-40af-9677-65a7d49278e6",
   "metadata": {},
   "outputs": [],
   "source": []
  }
 ],
 "metadata": {
  "kernelspec": {
   "display_name": "env",
   "language": "python",
   "name": "env"
  },
  "language_info": {
   "codemirror_mode": {
    "name": "ipython",
    "version": 3
   },
   "file_extension": ".py",
   "mimetype": "text/x-python",
   "name": "python",
   "nbconvert_exporter": "python",
   "pygments_lexer": "ipython3",
   "version": "3.8.8"
  }
 },
 "nbformat": 4,
 "nbformat_minor": 5
}
